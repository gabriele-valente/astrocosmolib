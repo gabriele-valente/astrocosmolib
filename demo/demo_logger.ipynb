{
 "cells": [
  {
   "cell_type": "code",
   "execution_count": 1,
   "metadata": {},
   "outputs": [],
   "source": [
    "#import pyACC\n",
    "\n",
    "import sys\n",
    "sys.path.append(\"../\")"
   ]
  },
  {
   "cell_type": "code",
   "execution_count": null,
   "metadata": {},
   "outputs": [],
   "source": [
    "#import Logger\n",
    "from pyACC.helpers import Logger"
   ]
  },
  {
   "cell_type": "code",
   "execution_count": null,
   "metadata": {},
   "outputs": [],
   "source": [
    "#initialize logger\n",
    "logger= Logger(\"Gabriele\")"
   ]
  },
  {
   "cell_type": "code",
   "execution_count": null,
   "metadata": {},
   "outputs": [
    {
     "name": "stdout",
     "output_type": "stream",
     "text": [
      "2025-03-05 10:03:25.732642 :: \u001b[1m\u001b[35mGabriele\u001b[0m :: \u001b[32mINFO\u001b[0m :: Hello world\n"
     ]
    }
   ],
   "source": [
    "#print message\n",
    "logger(\"Hello world\")"
   ]
  },
  {
   "cell_type": "code",
   "execution_count": 6,
   "metadata": {},
   "outputs": [
    {
     "name": "stdout",
     "output_type": "stream",
     "text": [
      "2025-03-05 10:04:52.423865 :: \u001b[1m\u001b[35mGabriele\u001b[0m :: \u001b[33mWARNING\u001b[0m :: This is warning\n"
     ]
    }
   ],
   "source": [
    "#warning\n",
    "logger.warning(\"This is warning\")"
   ]
  },
  {
   "cell_type": "code",
   "execution_count": 7,
   "metadata": {},
   "outputs": [
    {
     "name": "stdout",
     "output_type": "stream",
     "text": [
      "2025-03-05 10:05:17.470822 :: \u001b[1m\u001b[35mGabriele\u001b[0m :: \u001b[31mERROR\u001b[0m :: This is error\n"
     ]
    }
   ],
   "source": [
    "#error\n",
    "logger.error(\"This is error\")"
   ]
  },
  {
   "cell_type": "code",
   "execution_count": null,
   "metadata": {},
   "outputs": [],
   "source": []
  }
 ],
 "metadata": {
  "kernelspec": {
   "display_name": "acc-env",
   "language": "python",
   "name": "python3"
  },
  "language_info": {
   "codemirror_mode": {
    "name": "ipython",
    "version": 3
   },
   "file_extension": ".py",
   "mimetype": "text/x-python",
   "name": "python",
   "nbconvert_exporter": "python",
   "pygments_lexer": "ipython3",
   "version": "3.12.9"
  }
 },
 "nbformat": 4,
 "nbformat_minor": 2
}
