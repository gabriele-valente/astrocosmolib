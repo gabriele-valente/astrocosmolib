{
 "cells": [
  {
   "cell_type": "code",
   "execution_count": 1,
   "metadata": {},
   "outputs": [
    {
     "name": "stdout",
     "output_type": "stream",
     "text": []
    }
   ],
   "source": [
    "import sys\n",
    "sys.path.append(\"../\")\n",
    "\n",
    "from pyACC.cosmology import distances, hubble_function"
   ]
  },
  {
   "cell_type": "code",
   "execution_count": 2,
   "metadata": {},
   "outputs": [],
   "source": [
    "import numpy as np\n",
    "import matplotlib.pyplot as plt\n",
    "from astropy.cosmology import LambdaCDM\n",
    "from astropy.cosmology import w0waCDM"
   ]
  },
  {
   "cell_type": "code",
   "execution_count": 3,
   "metadata": {},
   "outputs": [
    {
     "name": "stdout",
     "output_type": "stream",
     "text": []
    }
   ],
   "source": [
    "hf=hubble_function.HubbleFunction(70,0.3,0.7,0)\n",
    "cosmo=LambdaCDM(H0=70, Om0=0.3, Ode0=0.7)\n",
    "cosmo1=w0waCDM(H0=70, Om0=0.3, Ode0=0.7, w0=-0.9, wa=0.2)\n",
    "z=np.linspace(0,1000,1000)\n",
    "hf(z)\n",
    "cosmo.H(z)\n",
    "cosmo1.H(z)\n",
    "plt.plot(z,cosmo1.H(z), label='w0waCDM', color='red')\n",
    "plt.plot(z,cosmo.H(z), label='LambdaCDM', color='blue')\n",
    "plt.plot(z,hf(z), label='MyModel', color='green')\n",
    "plt.legend()\n",
    "plt.xlabel('z')\n",
    "plt.ylabel('H(z)')\n",
    "plt.title('Hubble Function')\n",
    "plt.show()"
   ]
  },
  {
   "cell_type": "code",
   "execution_count": null,
   "metadata": {},
   "outputs": [
    {
     "name": "stdout",
     "output_type": "stream",
     "text": []
    }
   ],
   "source": [
    "cd=distances.Distances(hf)\n",
    "cd.comoving_distance(z, \"trapezoid\")\n",
    "plt.plot(z,cosmo1.comoving_distance(z), label='w0waCDM', color='red')\n",
    "plt.plot(z,cosmo.comoving_distance(z), label='LambdaCDM', color='blue')\n",
    "#plt.plot(z,cd.comoving_distance(z, \"simpson\"), label='Simpson', color='orange')\n",
    "#plt.plot(z,cd.comoving_distance(z, \"quad\"), label='Quad', color='purple')\n",
    "#plt.plot(z,cd.comoving_distance(z, \"trapezoid\"), label='Trapezoid', color='green')\n",
    "plt.legend()\n",
    "plt.xlabel('z')\n",
    "plt.ylabel('Comoving Distance')\n",
    "plt.title('Comoving Distance')\n",
    "plt.show()"
   ]
  },
  {
   "cell_type": "code",
   "execution_count": 10,
   "metadata": {},
   "outputs": [
    {
     "name": "stdout",
     "output_type": "stream",
     "text": []
    }
   ],
   "source": [
    "z1=np.linspace(0,100,1000)\n",
    "plt.plot(z1,cosmo.comoving_distance(z1)-cosmo1.comoving_distance(z1), label='difference', color='blue')\n",
    "plt.show()"
   ]
  },
  {
   "cell_type": "code",
   "execution_count": 5,
   "metadata": {},
   "outputs": [
    {
     "name": "stdout",
     "output_type": "stream",
     "text": []
    }
   ],
   "source": [
    "ld=distances.Distances(hf)\n",
    "ld.luminosity_distance(z,\"simpson\")\n",
    "plt.plot(z,cosmo1.luminosity_distance(z), label='w0waCDM', color='red')\n",
    "plt.plot(z,cosmo.luminosity_distance(z), label='LambdaCDM', color='blue')\n",
    "#plt.plot(z,cd.luminosity_distance(z, \"simpson\"), label='Simpson', color='orange')\n",
    "#plt.plot(z,cd.luminosity_distance(z, \"quad\"), label='Quad', color='purple')\n",
    "#plt.plot(z,cd.luminosity_distance(z, \"trapezoid\"), label='Trapezoid', color='green')\n",
    "plt.xlabel('z')\n",
    "plt.ylabel('Luminosity Distance')\n",
    "plt.title('Luminosity Distance')\n",
    "plt.legend()\n",
    "plt.show()"
   ]
  },
  {
   "cell_type": "code",
   "execution_count": 6,
   "metadata": {},
   "outputs": [
    {
     "name": "stdout",
     "output_type": "stream",
     "text": []
    }
   ],
   "source": [
    "ad=distances.Distances(hf)\n",
    "ad.angular_diameter_distance(z,\"simpson\")\n",
    "plt.plot(z,cosmo1.angular_diameter_distance(z), label='w0waCDM', color='red')\n",
    "plt.plot(z,cosmo.angular_diameter_distance(z), label='LambdaCDM', color='blue')\n",
    "#plt.plot(z,ad.angular_diameter_distance(z,\"simpson\"), label='Simpson', color='orange')\n",
    "#plt.plot(z,cd.angular_diameter_distance(z, \"quad\"), label='Quad', color='purple')\n",
    "#plt.plot(z,cd.angular_diameter_distance(z, \"trapezoid\"), label='Trapezoid', color='green')\n",
    "plt.xlabel('z')\n",
    "plt.ylabel('Angular Diameter Distance')\n",
    "plt.title('Angular Diameter Distance')\n",
    "plt.legend()\n",
    "plt.show()"
   ]
  }
 ],
 "metadata": {
  "kernelspec": {
   "display_name": "acc-env",
   "language": "python",
   "name": "python3"
  },
  "language_info": {
   "codemirror_mode": {
    "name": "ipython",
    "version": 3
   },
   "file_extension": ".py",
   "mimetype": "text/x-python",
   "name": "python",
   "nbconvert_exporter": "python",
   "pygments_lexer": "ipython3",
   "version": "3.12.9"
  }
 },
 "nbformat": 4,
 "nbformat_minor": 2
}
