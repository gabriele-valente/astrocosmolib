{
 "cells": [
  {
   "cell_type": "code",
   "execution_count": 4,
   "metadata": {},
   "outputs": [],
   "source": [
    "import sys\n",
    "sys.path.append(\"../\")"
   ]
  },
  {
   "cell_type": "code",
   "execution_count": 5,
   "metadata": {},
   "outputs": [
    {
     "name": "stderr",
     "output_type": "stream",
     "text": [
      "/home/gabriele/anaconda3/envs/acc-env/lib/python3.12/site-packages/numpy/_core/getlimits.py:551: UserWarning: Signature b'\\x00\\xd0\\xcc\\xcc\\xcc\\xcc\\xcc\\xcc\\xfb\\xbf\\x00\\x00\\x00\\x00\\x00\\x00' for <class 'numpy.longdouble'> does not match any known type: falling back to type probe function.\n",
      "This warnings indicates broken support for the dtype!\n",
      "  machar = _get_machar(dtype)\n"
     ]
    }
   ],
   "source": [
    "import numpy as np\n",
    "import matplotlib.pyplot as plt"
   ]
  },
  {
   "cell_type": "code",
   "execution_count": 6,
   "metadata": {},
   "outputs": [],
   "source": [
    "from pyACC.fits_wrapper import FitsManager"
   ]
  },
  {
   "cell_type": "code",
   "execution_count": 7,
   "metadata": {},
   "outputs": [],
   "source": [
    "imput_file=\"/home/gabriele/astrocosmolib/VIPERS_W1_SPECTRO_PDR2.fits.gz\""
   ]
  },
  {
   "cell_type": "code",
   "execution_count": 8,
   "metadata": {},
   "outputs": [
    {
     "name": "stdout",
     "output_type": "stream",
     "text": [
      "2025-03-21 15:53:09.306869 :: \u001b[1m\u001b[35mFitsManager\u001b[0m :: \u001b[32mINFO\u001b[0m :: FITS file opened correctly\n",
      "Filename: /home/gabriele/astrocosmolib/VIPERS_W1_SPECTRO_PDR2.fits.gz\n",
      "No.    Name      Ver    Type      Cards   Dimensions   Format\n",
      "  0  PRIMARY       1 PrimaryHDU       7   ()      \n",
      "  1  W1_SPECTRO_PDR2    1 BinTableHDU     77   60528R x 16C   [16A, 9A, 1D, 1D, 1E, 1E, 6A, 1J, 1E, 1E, 1E, 1J, 1J, 1E, 1E, 1J]   \n",
      "ColDefs(\n",
      "    name = 'id_IAU'; format = '16A'\n",
      "    name = 'num'; format = '9A'\n",
      "    name = 'alpha'; format = '1D'; unit = 'deg'\n",
      "    name = 'delta'; format = '1D'; unit = 'deg'\n",
      "    name = 'selmag'; format = '1E'; unit = 'mag'\n",
      "    name = 'errselmag'; format = '1E'; unit = 'mag'\n",
      "    name = 'pointing'; format = '6A'\n",
      "    name = 'quadrant'; format = '1J'\n",
      "    name = 'zspec'; format = '1E'\n",
      "    name = 'zflg'; format = '1E'\n",
      "    name = 'norm'; format = '1E'\n",
      "    name = 'epoch'; format = '1J'\n",
      "    name = 'photoMask'; format = '1J'\n",
      "    name = 'tsr'; format = '1E'\n",
      "    name = 'ssr'; format = '1E'\n",
      "    name = 'classFlag'; format = '1J'\n",
      ")\n"
     ]
    }
   ],
   "source": [
    "Vipers_W1=FitsManager(imput_file)\n",
    "Vipers_W1.imput_files\n",
    "Vipers_W1.hdulist.info()\n",
    "data=Vipers_W1.hdulist[1].data\n",
    "Vipers_W1.hdulist[1].header\n",
    "print(data.columns)"
   ]
  },
  {
   "cell_type": "code",
   "execution_count": 10,
   "metadata": {},
   "outputs": [
    {
     "name": "stdout",
     "output_type": "stream",
     "text": [
      "[0.2096 0.9226 1.0308 ... 0.6042 0.6525 1.0104]\n"
     ]
    }
   ],
   "source": [
    "z=data['zspec']\n",
    "print(z)"
   ]
  },
  {
   "cell_type": "code",
   "execution_count": 16,
   "metadata": {},
   "outputs": [
    {
     "data": {
      "image/png": "[encoded data removed]",
      "text/plain": [
       "<Figure size 640x480 with 1 Axes>"
      ]
     },
     "metadata": {},
     "output_type": "display_data"
    }
   ],
   "source": [
    "plt.hist(z,bins=100)\n",
    "plt.xlabel('redshift')\n",
    "plt.ylabel('Number of galaxies')\n",
    "plt.show()"
   ]
  },
  {
   "cell_type": "code",
   "execution_count": null,
   "metadata": {},
   "outputs": [],
   "source": []
  }
 ],
 "metadata": {
  "kernelspec": {
   "display_name": "acc-env",
   "language": "python",
   "name": "python3"
  },
  "language_info": {
   "codemirror_mode": {
    "name": "ipython",
    "version": 3
   },
   "file_extension": ".py",
   "mimetype": "text/x-python",
   "name": "python",
   "nbconvert_exporter": "python",
   "pygments_lexer": "ipython3",
   "version": "3.12.9"
  }
 },
 "nbformat": 4,
 "nbformat_minor": 2
}
